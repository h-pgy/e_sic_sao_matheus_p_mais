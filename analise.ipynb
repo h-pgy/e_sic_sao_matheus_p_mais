{
 "cells": [
  {
   "cell_type": "code",
   "execution_count": 1,
   "id": "71b8e568-08aa-4044-b3c1-8f4fe167e042",
   "metadata": {},
   "outputs": [],
   "source": [
    "import pandas as pd\n",
    "import pickle\n",
    "from cryptography.fernet import Fernet"
   ]
  },
  {
   "cell_type": "code",
   "execution_count": 2,
   "id": "28229115-a1e8-47d0-b115-d2d462f0bdbc",
   "metadata": {},
   "outputs": [],
   "source": [
    "df = pd.read_csv('original_data/relatorio_votos.csv')"
   ]
  },
  {
   "cell_type": "code",
   "execution_count": 3,
   "id": "07dcb5c1-760d-4741-bb23-926beeac3f25",
   "metadata": {},
   "outputs": [
    {
     "data": {
      "text/plain": [
       "Index(['Código', 'Data de criação', 'Autor', 'Título', 'Descrição',\n",
       "       'Categoria', 'Resultado da priorização', 'Votos',\n",
       "       'Resultado da votação', 'Viabilidade', 'Compromisso', 'Justificativa',\n",
       "       'Data do voto', 'Horário', 'documento', 'subprefeitura'],\n",
       "      dtype='object')"
      ]
     },
     "execution_count": 3,
     "metadata": {},
     "output_type": "execute_result"
    }
   ],
   "source": [
    "df.keys()"
   ]
  },
  {
   "cell_type": "code",
   "execution_count": 4,
   "id": "8f73f687-943a-47c1-adb6-a724959211ab",
   "metadata": {},
   "outputs": [],
   "source": [
    "def get_fernet_crypto():\n",
    "    \n",
    "    with open('original_data/fernet_key.pi', 'rb') as f:\n",
    "        key = pickle.load(f)\n",
    "        \n",
    "    return Fernet(key)"
   ]
  },
  {
   "cell_type": "code",
   "execution_count": 5,
   "id": "fa5a1989-8bbf-447d-945d-0f7d3a1b4c4d",
   "metadata": {},
   "outputs": [],
   "source": [
    "def encrypt(item, crypto=None):\n",
    "    \n",
    "    if crypto is None:\n",
    "        crypto = get_fernet_crypto()\n",
    "    \n",
    "    bytes_item = str(item).encode('utf-8')\n",
    "    \n",
    "    return crypto.encrypt(bytes_item)"
   ]
  },
  {
   "cell_type": "code",
   "execution_count": 6,
   "id": "1c50f3ad-6ed6-42fe-92ca-686316ac1a67",
   "metadata": {},
   "outputs": [],
   "source": [
    "def decrypt(item, crypto=None):\n",
    "    \n",
    "    if crypto is None:\n",
    "        crypto = get_fernet_crypto()\n",
    "    \n",
    "    return crypto.decrypt(item).decode('utf-8')"
   ]
  },
  {
   "cell_type": "code",
   "execution_count": 7,
   "id": "64324eb1-d4d2-40d4-b5d7-a833e27d74b0",
   "metadata": {},
   "outputs": [
    {
     "data": {
      "text/plain": [
       "'Henrique Pougy'"
      ]
     },
     "execution_count": 7,
     "metadata": {},
     "output_type": "execute_result"
    }
   ],
   "source": [
    "decrypt(encrypt('Henrique Pougy'))"
   ]
  },
  {
   "cell_type": "code",
   "execution_count": 8,
   "id": "083e01bd-d1f9-4372-803d-6403b2815d68",
   "metadata": {},
   "outputs": [],
   "source": [
    "df['Autor'].fillna('Vazio', inplace = True)\n",
    "df['Autor'] = df['Autor'].apply(encrypt)\n",
    "df['documento'].fillna('Vazio', inplace = True)\n",
    "df['documento'] = df['documento'].apply(encrypt)"
   ]
  },
  {
   "cell_type": "code",
   "execution_count": 9,
   "id": "0a56d4b8-c585-4fa7-baf2-6c76ece5f823",
   "metadata": {},
   "outputs": [],
   "source": [
    "def drop_cols_sem_info(df):\n",
    "    \n",
    "    df = df.copy()\n",
    "    \n",
    "    remover = []\n",
    "    for col in df.columns:\n",
    "        val_unicos = df[col].unique()\n",
    "        if len(val_unicos) == 1:\n",
    "            print(f'A coluna {col} possui como valor unico \"{val_unicos[0]}\"')\n",
    "            remover.append(col)\n",
    "    df.drop(remover, axis=1, inplace = True)\n",
    "    \n",
    "    return df"
   ]
  },
  {
   "cell_type": "code",
   "execution_count": 10,
   "id": "f6d14bdd-28d9-4aa9-8a0e-c3b0cf28944b",
   "metadata": {},
   "outputs": [
    {
     "name": "stdout",
     "output_type": "stream",
     "text": [
      "A coluna Resultado da priorização possui como valor unico \"Priorizada\"\n",
      "A coluna Viabilidade possui como valor unico \"Etapa orçamentária futura\"\n",
      "A coluna Compromisso possui como valor unico \"Etapa orçamentária futura\"\n",
      "A coluna Justificativa possui como valor unico \"Etapa orçamentária futura\"\n"
     ]
    }
   ],
   "source": [
    "df = drop_cols_sem_info(df)"
   ]
  },
  {
   "cell_type": "code",
   "execution_count": 11,
   "id": "4eefaeea-da02-46f8-ae62-5f5cfee9fa71",
   "metadata": {},
   "outputs": [
    {
     "data": {
      "text/html": [
       "<div>\n",
       "<style scoped>\n",
       "    .dataframe tbody tr th:only-of-type {\n",
       "        vertical-align: middle;\n",
       "    }\n",
       "\n",
       "    .dataframe tbody tr th {\n",
       "        vertical-align: top;\n",
       "    }\n",
       "\n",
       "    .dataframe thead th {\n",
       "        text-align: right;\n",
       "    }\n",
       "</style>\n",
       "<table border=\"1\" class=\"dataframe\">\n",
       "  <thead>\n",
       "    <tr style=\"text-align: right;\">\n",
       "      <th></th>\n",
       "      <th>Código</th>\n",
       "      <th>Data de criação</th>\n",
       "      <th>Autor</th>\n",
       "      <th>Título</th>\n",
       "      <th>Descrição</th>\n",
       "      <th>Categoria</th>\n",
       "      <th>Votos</th>\n",
       "      <th>Resultado da votação</th>\n",
       "      <th>Data do voto</th>\n",
       "      <th>Horário</th>\n",
       "      <th>documento</th>\n",
       "      <th>subprefeitura</th>\n",
       "    </tr>\n",
       "  </thead>\n",
       "  <tbody>\n",
       "    <tr>\n",
       "      <th>0</th>\n",
       "      <td>335</td>\n",
       "      <td>17/04/2021</td>\n",
       "      <td>b'gAAAAABhACQW-_be27MbRIPQgCqqQRBRA0ENPZ0SIX3D...</td>\n",
       "      <td>Implantação do Parque Cabeceira do Cabore</td>\n",
       "      <td>Implantação do Parque Cabeceira do Cabore Pl 7...</td>\n",
       "      <td>Meio Ambiente</td>\n",
       "      <td>491</td>\n",
       "      <td>Eleita</td>\n",
       "      <td>25/06/21</td>\n",
       "      <td>00:05</td>\n",
       "      <td>b'gAAAAABhACQYEW7IvekWboY98mYagGw2x9vB9tg4QB0G...</td>\n",
       "      <td>Campo Limpo</td>\n",
       "    </tr>\n",
       "    <tr>\n",
       "      <th>1</th>\n",
       "      <td>81</td>\n",
       "      <td>13/04/2021</td>\n",
       "      <td>b'gAAAAABhACQWZx10J1RiKcNC-FDx6r7NiHh2sbVzLCkr...</td>\n",
       "      <td>Implantação de UBS na região do parque industr...</td>\n",
       "      <td>Implantação de uma unidade básica de saúde na ...</td>\n",
       "      <td>Saúde</td>\n",
       "      <td>136</td>\n",
       "      <td>Não eleita</td>\n",
       "      <td>25/06/21</td>\n",
       "      <td>00:05</td>\n",
       "      <td>b'gAAAAABhACQYowvYMUSUkEGsr0xPVN9zQiwKCsT9ARLp...</td>\n",
       "      <td>Lapa</td>\n",
       "    </tr>\n",
       "    <tr>\n",
       "      <th>2</th>\n",
       "      <td>398</td>\n",
       "      <td>18/04/2021</td>\n",
       "      <td>b'gAAAAABhACQWMLqrsVo93R86CRwDaU_bOpmdmqXVvNXK...</td>\n",
       "      <td>Implementação dos parques Horto do Ipê, Capadó...</td>\n",
       "      <td>Conforme o Decreto 53.965/2013 que declara a á...</td>\n",
       "      <td>Meio Ambiente</td>\n",
       "      <td>1072</td>\n",
       "      <td>Eleita</td>\n",
       "      <td>25/06/21</td>\n",
       "      <td>00:05</td>\n",
       "      <td>b'gAAAAABhACQYAkJa5gC2evmp8NLrkmI8mzp9QjKSI2W_...</td>\n",
       "      <td>Campo Limpo</td>\n",
       "    </tr>\n",
       "    <tr>\n",
       "      <th>3</th>\n",
       "      <td>429</td>\n",
       "      <td>19/04/2021</td>\n",
       "      <td>b'gAAAAABhACQWN1PImxdf6xfmGAqUVrtpyHA-JbzXQna4...</td>\n",
       "      <td>Construção de um Hospital no distrito do Campo...</td>\n",
       "      <td>Construção de um Hospital no distrito do Campo...</td>\n",
       "      <td>Saúde</td>\n",
       "      <td>552</td>\n",
       "      <td>Eleita</td>\n",
       "      <td>25/06/21</td>\n",
       "      <td>00:07</td>\n",
       "      <td>b'gAAAAABhACQY62p3DPPgdJ2alkpYMPJHki-vPAxTeuLS...</td>\n",
       "      <td>Campo Limpo</td>\n",
       "    </tr>\n",
       "    <tr>\n",
       "      <th>4</th>\n",
       "      <td>3148</td>\n",
       "      <td>10/05/2021</td>\n",
       "      <td>b'gAAAAABhACQWvnjjiuzSpY5AnkQUcAObwm1Bc8TfHG1A...</td>\n",
       "      <td>Pavimentação e Drenagem na Rua Servidão V</td>\n",
       "      <td>Pavimentação e Drenagem na Rua Servidão V (Rua...</td>\n",
       "      <td>Zeladoria Urbana e melhorias de bairro</td>\n",
       "      <td>78</td>\n",
       "      <td>Não eleita</td>\n",
       "      <td>25/06/21</td>\n",
       "      <td>00:08</td>\n",
       "      <td>b'gAAAAABhACQYKa-WkWUB0DvcihY5YDtkbecmxJMLc_g-...</td>\n",
       "      <td>São Mateus</td>\n",
       "    </tr>\n",
       "  </tbody>\n",
       "</table>\n",
       "</div>"
      ],
      "text/plain": [
       "   Código Data de criação                                              Autor  \\\n",
       "0     335      17/04/2021  b'gAAAAABhACQW-_be27MbRIPQgCqqQRBRA0ENPZ0SIX3D...   \n",
       "1      81      13/04/2021  b'gAAAAABhACQWZx10J1RiKcNC-FDx6r7NiHh2sbVzLCkr...   \n",
       "2     398      18/04/2021  b'gAAAAABhACQWMLqrsVo93R86CRwDaU_bOpmdmqXVvNXK...   \n",
       "3     429      19/04/2021  b'gAAAAABhACQWN1PImxdf6xfmGAqUVrtpyHA-JbzXQna4...   \n",
       "4    3148      10/05/2021  b'gAAAAABhACQWvnjjiuzSpY5AnkQUcAObwm1Bc8TfHG1A...   \n",
       "\n",
       "                                              Título  \\\n",
       "0          Implantação do Parque Cabeceira do Cabore   \n",
       "1  Implantação de UBS na região do parque industr...   \n",
       "2  Implementação dos parques Horto do Ipê, Capadó...   \n",
       "3  Construção de um Hospital no distrito do Campo...   \n",
       "4          Pavimentação e Drenagem na Rua Servidão V   \n",
       "\n",
       "                                           Descrição  \\\n",
       "0  Implantação do Parque Cabeceira do Cabore Pl 7...   \n",
       "1  Implantação de uma unidade básica de saúde na ...   \n",
       "2  Conforme o Decreto 53.965/2013 que declara a á...   \n",
       "3  Construção de um Hospital no distrito do Campo...   \n",
       "4  Pavimentação e Drenagem na Rua Servidão V (Rua...   \n",
       "\n",
       "                                Categoria  Votos Resultado da votação  \\\n",
       "0                           Meio Ambiente    491               Eleita   \n",
       "1                                   Saúde    136           Não eleita   \n",
       "2                           Meio Ambiente   1072               Eleita   \n",
       "3                                   Saúde    552               Eleita   \n",
       "4  Zeladoria Urbana e melhorias de bairro     78           Não eleita   \n",
       "\n",
       "  Data do voto Horário                                          documento  \\\n",
       "0     25/06/21   00:05  b'gAAAAABhACQYEW7IvekWboY98mYagGw2x9vB9tg4QB0G...   \n",
       "1     25/06/21   00:05  b'gAAAAABhACQYowvYMUSUkEGsr0xPVN9zQiwKCsT9ARLp...   \n",
       "2     25/06/21   00:05  b'gAAAAABhACQYAkJa5gC2evmp8NLrkmI8mzp9QjKSI2W_...   \n",
       "3     25/06/21   00:07  b'gAAAAABhACQY62p3DPPgdJ2alkpYMPJHki-vPAxTeuLS...   \n",
       "4     25/06/21   00:08  b'gAAAAABhACQYKa-WkWUB0DvcihY5YDtkbecmxJMLc_g-...   \n",
       "\n",
       "  subprefeitura  \n",
       "0   Campo Limpo  \n",
       "1          Lapa  \n",
       "2   Campo Limpo  \n",
       "3   Campo Limpo  \n",
       "4    São Mateus  "
      ]
     },
     "execution_count": 11,
     "metadata": {},
     "output_type": "execute_result"
    }
   ],
   "source": [
    "df.head()"
   ]
  },
  {
   "cell_type": "code",
   "execution_count": 13,
   "id": "564d6fca-a6fc-4912-9fa2-8977e0e7e031",
   "metadata": {},
   "outputs": [],
   "source": [
    "df.to_csv('microdados_votacao_orcamento_anonimizados.csv', sep =';', index = False, encoding = 'utf-8')"
   ]
  },
  {
   "cell_type": "code",
   "execution_count": 14,
   "id": "8f3890e4-ada5-40e9-b31b-552952f2470d",
   "metadata": {},
   "outputs": [],
   "source": [
    "df = pd.read_csv('microdados_votacao_orcamento_anonimizados.csv', sep = ';')"
   ]
  },
  {
   "cell_type": "code",
   "execution_count": 16,
   "id": "9c469725-2ab0-4f70-8beb-e8838ce91efc",
   "metadata": {},
   "outputs": [
    {
     "data": {
      "text/plain": [
       "Código                   int64\n",
       "Data de criação         object\n",
       "Autor                   object\n",
       "Título                  object\n",
       "Descrição               object\n",
       "Categoria               object\n",
       "Votos                    int64\n",
       "Resultado da votação    object\n",
       "Data do voto            object\n",
       "Horário                 object\n",
       "documento               object\n",
       "subprefeitura           object\n",
       "dtype: object"
      ]
     },
     "execution_count": 16,
     "metadata": {},
     "output_type": "execute_result"
    }
   ],
   "source": [
    "df.dtypes"
   ]
  },
  {
   "cell_type": "code",
   "execution_count": null,
   "id": "b24337d1-7eea-4f41-95b7-105fb4378495",
   "metadata": {},
   "outputs": [],
   "source": []
  }
 ],
 "metadata": {
  "kernelspec": {
   "display_name": "Python 3",
   "language": "python",
   "name": "python3"
  },
  "language_info": {
   "codemirror_mode": {
    "name": "ipython",
    "version": 3
   },
   "file_extension": ".py",
   "mimetype": "text/x-python",
   "name": "python",
   "nbconvert_exporter": "python",
   "pygments_lexer": "ipython3",
   "version": "3.8.8"
  }
 },
 "nbformat": 4,
 "nbformat_minor": 5
}
