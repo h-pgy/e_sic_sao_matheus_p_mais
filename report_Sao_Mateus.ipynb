{
 "cells": [
  {
   "cell_type": "markdown",
   "id": "892895f8-f638-4ff8-b280-7efb69964316",
   "metadata": {},
   "source": [
    "# Resposta às dúvidas enviadas pela população sobre a votação de São Mateus\n",
    "\n",
    "\n",
    "Este relatório tem por objetivo sanar as dúvidas enviadas pela população sobre o resultado da eleição das propostas para a <b> Proposta de Lei Orçamentária 2022 </b> no processo participativo do <b> Orçamento Cidadão </b> da Prefeitura Municipal de São Paulo. Realizado por meio da Plataforma Participe + (<i> https://participemais.prefeitura.sp.gov.br/budgets </i>, o orçamento cidadão contemplou as seguintes etapas:\n",
    "    \n",
    "* Recepção das propostas\n",
    "10 Abril, 2021 - 10 Maio, 2021\n",
    "\n",
    "Etapa na qual a sociedade civil pôde enviar propostas para a PLOA 2022, regionalizadas por Subprefeitura.\n",
    "\n",
    "* Priorização das propostas\n",
    "11 Maio, 2021 - 24 Junho, 2021\n",
    "\n",
    "Etapa na qual os Conselhos Participativos Municipais das Subprefeituras que receberam mais de 15 propostas analisaram e priorizaram até 15 propostas entre as enviadas pela população na etapa de Recepção de Propostas para participarem da Votação Popular. Caso o número de propostas recebidas na etapa Recepção de Propostas tenha sido menor do que 15, todas as propostas vão a Votação Popular.\n",
    "\n",
    "* Votação popular\n",
    "25 Junho, 2021 - 18 Julho, 2021\n",
    "    \n",
    "Etapa na qual indivíduos puderam votar, por meio da plataforma Participe +, em até 5 propostas diferentes que considerem mais importantes para o orçamento do ano que vem. Nesta etapa, a votação só pode ser enviada após ser realizado o cadastro completo na Plataforma.\n",
    "\n",
    "Na Subprefeitura de São Mateus, a votação foi acirrada, e a Prefeitura recebeu uma série de questionamentos sobre seus resultados. Copio trechos de alguns deseses questionamentos abaixo, sem identificar os autores, é claro:\n",
    "\n",
    "* <i> Como assim?? Acompanhamos as propostas por São Mateus, referente PLOA 2022 e, as duas propostas que se classificaram no 4° e 5° lugar, estavam bem em colocação diversas. Como passaram a frente se, outras estavam nestas colocações? É possível ser verificado e apresentado se ocorreu algum erro? E,em que momento estas pularam pra estas colocações? Assim, você saberia nos dizer se SGM ou SF seria a competente para a resposta? Caso seja SGM, haveria viabilidade de apresentação de minuta até dia 30/07? Muito obrigado! <i/>\n",
    "\n",
    "\n",
    "* <i> (...) Até por volta das badaladas da virada das 00h tinhamos duas propostas no 4° e 5° lugar, que não eram as que figuram como \"eleitas\". Estas que agora figuram não tinham mais que 85 votos,  uma sequer 80 tinha e agora estão no 4° e 5° lugar? Pede-se verificação desta votação, em que momento isto ocorreu? Pode ter erro? (...) </i>\n",
    "    \n",
    "* <i>  Venho por meio desta, ratificar posição que emanei (...) para indagarem a verificação - Auditoria - na votação PLOA 2O21, pois acompanhei até os últimos instantes e as propostas que se verificam como Eleitas na ordem da Quarta e Quinta posição NÃO CONZIDEM, com o que se apresentava, se via no site Participe+, até às 23:59 de 18 de Julho de 2021. Estranhamente as que estão hoje, na posição sexta e sétima, como não eleitas, eram as que \"deveriam figurar como quarto e quinto lugar\". Algo ocorreu de muito estranho. </i>\n",
    "    \n",
    "* <i>Senhores, acompanhamos as propostas por São Mateus, referente ORÇAMENTO CIDADÃO 2022 e, as duas propostas que se classificaram no 4° e 5° lugar, estavam em colocação diversas, outras figuravam no lugar antes das 23:30h. Solicitamos a apresentação e verificação de votos., pois outras figuravam. Estas que ora se classificaram como 4° e 5° lugar deram um \"salto\" de +50votos... Estávamos acompanhando e as 00h de 19/7 deu este resultado? Solicita-se a veracidade dos votos e reavaliação. Aguarda-se posição. </i>\n",
    "    \n",
    "    \n",
    "Boa parte dos questionamentos solicita o envio dos CPFs e e-mails dos usuários que votaram em São Mateus. Nós, da Prefeitura, não podemos fazê-lo, uma vez que o voto é <b> secreto </b> e estaríamos também infringindo a Lei Geral de Proteção de Dados (LGPD) ao encaminhar estes dados pessoais. \n",
    "    \n",
    "De todo modo, ressaltamos que a <b> transparência </b> é um de nossos valores fundamentais e que <b> toda participação é bem-vinda </b>.\n",
    "    \n",
    "Assim, nesse relatório, buscamos alcançar dois objetivos principais:\n",
    "    \n",
    "1. Anonimizar os microdados das votações da Subprefeitura de São Mateus realizadas na Plataforma Participe+ para o Orçamento Participativo PLOA 2022, para permitir sua abertura como dados abertos.\n",
    "    \n",
    "2. Analisar o andamento da votação na Subprefeitura de São Mateus, endereçando os questionamentos enviados pelos munícipes, sobretudo sobre as duas propostas mencionadas que figuravam em 3º e 4º lugar [<sup>1</sup>](#fn1)\n",
    "    \n",
    "    \n",
    "<span id=\"fn1\"> <font size=\"-3\"> 1. Não fazem parte do escopo deste relatório possíveis avaliações, do ponto de vista da Segurança da Informação, sobre a plataforma Participe+, como testes de penetração (<i> pentests </i>), uma vez que estas escapam às competências de seu autor. No entanto, em primeiro lugar, cumpre ressaltar que a plataforma se trata de uma implementação de software de código aberto utilizado por diversos países e organização ao redor do mundo, com o endosso da Organização das Nações Unidas. Mais informações podem ser encontradas em https://consulproject.org/en/. </font></span>    \n",
    "    "
   ]
  },
  {
   "cell_type": "markdown",
   "id": "005769e5-e902-425b-9bb6-2b73b7509f83",
   "metadata": {},
   "source": [
    "## Parte 1: Anonimização dos dados\n",
    "\n",
    "A seguir, realizaremos a anonimização dos dados das votações.\n",
    "\n",
    "Isto nos permitirá:\n",
    "* Colocar os microdados das votações de São Mateus em transparência, conforme solicitado pela população;\n",
    "* Realizar as análises neste documento de forma segura, de modo que podemos inspecionar os dados sem \"vazar\" informações pessoais."
   ]
  },
  {
   "cell_type": "markdown",
   "id": "3f58243a-b6d8-4b72-af87-0877a455a61e",
   "metadata": {},
   "source": [
    "Abaixo, importamos as bibliotecas que utilizaremos em ambas as partes, de análise e anonimização:"
   ]
  },
  {
   "cell_type": "code",
   "execution_count": 1,
   "id": "627c31bd-1903-41c5-b615-0582b19b0f74",
   "metadata": {},
   "outputs": [],
   "source": [
    "#bibliotecas de analise e manipulação de dados\n",
    "import pandas as pd\n",
    "import numpy as np\n",
    "#bibliotecas utilizadas na anonimização\n",
    "from cryptography.fernet import Fernet\n",
    "import hashlib\n",
    "#bibliotecas utiliárias usadas no relatório\n",
    "import string\n",
    "import pickle\n",
    "import random\n",
    "#bibliotecas de visualização de dados\n",
    "import matplotlib.pyplot as plt\n",
    "import seaborn as sns"
   ]
  },
  {
   "cell_type": "code",
   "execution_count": 2,
   "id": "78d5f0a1-ac08-4fd9-a775-c2263b53d263",
   "metadata": {},
   "outputs": [],
   "source": [
    "#configurações para as visualizações\n",
    "%matplotlib inline\n",
    "sns.set()"
   ]
  },
  {
   "cell_type": "markdown",
   "id": "5f1ed306-f912-4248-b76e-d251b1966bfe",
   "metadata": {},
   "source": [
    "A maneira correta de anonimizar os dados é por meio de criptografia ou codificação das informações pessoais contidas nos dados.\n",
    "Assim, em primeito lugar, é preciso identificar as colunas que contém informações pessoais.\n",
    "\n",
    "Abaixo carregamos a base de dados e inspecionamos os nomes das colunas:"
   ]
  },
  {
   "cell_type": "code",
   "execution_count": 3,
   "id": "431ec340-443a-4dbe-b224-63776f560253",
   "metadata": {},
   "outputs": [],
   "source": [
    "df = pd.read_csv('original_data/relatorio_votos.csv')"
   ]
  },
  {
   "cell_type": "code",
   "execution_count": 4,
   "id": "51043239-e595-4078-92bb-925f7f52ffa0",
   "metadata": {},
   "outputs": [
    {
     "name": "stdout",
     "output_type": "stream",
     "text": [
      "Código\n",
      "Data de criação\n",
      "Autor\n",
      "Título\n",
      "Descrição\n",
      "Categoria\n",
      "Resultado da priorização\n",
      "Votos\n",
      "Resultado da votação\n",
      "Viabilidade\n",
      "Compromisso\n",
      "Justificativa\n",
      "Data do voto\n",
      "Horário\n",
      "documento\n",
      "subprefeitura\n"
     ]
    }
   ],
   "source": [
    "for col in df.columns:\n",
    "    print(col)"
   ]
  },
  {
   "cell_type": "markdown",
   "id": "661ae6fd-72f1-4e41-946a-554b79ade210",
   "metadata": {},
   "source": [
    "Vemos que apenas duas colunas contém dados pessoais: \n",
    "* \"Autor\", que identifica o nome do autor da proposta que foi votada.\n",
    "* \"documento\", que contém o documento (CPF ou CNPJ) do eleitor que realizou o voto.\n",
    "\n",
    "Vamos anomizar ambas as colunas imediatamente. Pois, caso não façamos isso, corremos o risco de vazar alguma informação pessoal durante a análise.\n",
    "\n",
    "Grosso modo, há duas principais maneiras de anonimizar dados. Ambas envolvem a criptografia, que pode ser definida, de forma bastante resumida mas suficiente aos propósitos deste relatório, como o uso de funções matemáticas complexas para \"embaralhar\" uma determinada informação de modo que um terceiro, de posse apenas do dado \"embaralhado\", não consiga decifrá-la e portanto não possa retornar à informação original. Segue um exemplo bastante simplificado (e um tanto inseguro como criptografia!):\n",
    "\n",
    "Vamos escolher um valor textual qualquer. Pode ser meu nome: \"Henrique Pougy\". Uma forma de criptografar meu nome seria transformar as letras em números. Para isso, podemos pegar sua posição no alfabeto. Em seguida, podemos somar todas essas letras a um número aleatório. Assim, caso um terceiro tenha acesso apenas ao conjunto de números, dificilmente conseguirá descrobrir o valor original. No entanto, caso ele seja nosso \"aliado\" e queiramos que ele acesse o valor original, podemos escolher um número (que, nesse caso, será nossa \"chave\") e informar a ele esse número de antemão. Assim, de posse da chave, ele consegue subtrair dos valores numéricos criptografados o número (a chave) que foi somada, retornando à posição das letras no alfabeto. Em seguida, basta fazer a conversão que ele conseguirá acessar o valor original. Como veremos em seguida, o fato de ser possível ou não, por meio de uma chave, retornar ao valor original, é o que define duas das principais formas de criptografia atuais."
   ]
  },
  {
   "cell_type": "markdown",
   "id": "2a05ff80-c345-4fcc-9ce4-54b7fb991f79",
   "metadata": {},
   "source": [
    "Abaixo implementamos a função de exemplo:"
   ]
  },
  {
   "cell_type": "code",
   "execution_count": 5,
   "id": "c12625c0-d203-4c58-9f3a-e3fe89f9ee39",
   "metadata": {},
   "outputs": [],
   "source": [
    "def exemplo_criptografar(nome, chave = None):\n",
    "    \n",
    "    #caso nao seja passado nenhuma chave, geramos um numero aleatorio\n",
    "    if chave is None:\n",
    "        chave = random.randint(1, 10)\n",
    "    \n",
    "    #vou transformar tudo em letra minúscula para simplificar\n",
    "    letras = list(nome)\n",
    "    \n",
    "    embaralhado = []\n",
    "    for letra in letras:\n",
    "        #a funcao abaixo pega a posição da letra na tabela ascii\n",
    "        #a tabela ascii codifica letras e alguns caracteres em posições.\n",
    "        #é basicamente o nosso exemplo da posição no alfabeto, mas incluindo também caracteres como o espaço\n",
    "        posit = ord(letra)\n",
    "        posit_embaralhado = posit + chave\n",
    "        embaralhado.append(posit_embaralhado)\n",
    "    \n",
    "    return ';'.join([str(num) for num in embaralhado])\n",
    "        "
   ]
  },
  {
   "cell_type": "code",
   "execution_count": 6,
   "id": "7ed14ca5-b9b5-44ac-9443-d6d41a6ded02",
   "metadata": {},
   "outputs": [],
   "source": [
    "chave_secretíssima = 3"
   ]
  },
  {
   "cell_type": "code",
   "execution_count": 7,
   "id": "cacc658e-6d63-4473-8989-399f1ab94f6b",
   "metadata": {},
   "outputs": [],
   "source": [
    "nome = 'Henrique Pougy'"
   ]
  },
  {
   "cell_type": "code",
   "execution_count": 8,
   "id": "ee8be144-caf1-4ded-a6b8-bf18b372192d",
   "metadata": {},
   "outputs": [],
   "source": [
    "embaralhado = exemplo_criptografar(nome, chave_secretíssima)"
   ]
  },
  {
   "cell_type": "code",
   "execution_count": 9,
   "id": "d1f11797-1ea7-4389-8843-df99c66f8bdd",
   "metadata": {},
   "outputs": [
    {
     "name": "stdout",
     "output_type": "stream",
     "text": [
      "75;104;113;117;108;116;120;104;35;83;114;120;106;124\n"
     ]
    }
   ],
   "source": [
    "print(embaralhado)"
   ]
  },
  {
   "cell_type": "markdown",
   "id": "240eb0c0-cdac-4413-82e2-8e3aae2c6f96",
   "metadata": {},
   "source": [
    "Agora, vamos implementar a forma de descriptografar. Note que, caso a chave tenha sido gerada aleatoriamente na função anterior (e a gente desconheça ela), não há como descriptografar a informação!"
   ]
  },
  {
   "cell_type": "code",
   "execution_count": 10,
   "id": "23f04f39-230b-4003-8b1b-071531c46fc7",
   "metadata": {},
   "outputs": [],
   "source": [
    "def exemplo_descriptografar(embaralhado, chave):\n",
    "    \n",
    "    desembaralhado = []\n",
    "    for num in embaralhado.split(';'):\n",
    "        posit_original = int(num) - chave\n",
    "        letra = chr(posit_original)\n",
    "        desembaralhado.append(letra)\n",
    "        \n",
    "    return ''.join(desembaralhado)\n",
    "    \n",
    "    "
   ]
  },
  {
   "cell_type": "code",
   "execution_count": 11,
   "id": "67963aef-7586-4158-86f4-469c89b50faa",
   "metadata": {},
   "outputs": [],
   "source": [
    "desembaralhado = exemplo_descriptografar(embaralhado, chave_secretíssima)"
   ]
  },
  {
   "cell_type": "code",
   "execution_count": 12,
   "id": "fcb275ac-edb0-4273-a8a3-226a79bb4d99",
   "metadata": {},
   "outputs": [
    {
     "name": "stdout",
     "output_type": "stream",
     "text": [
      "Henrique Pougy\n"
     ]
    }
   ],
   "source": [
    "print(desembaralhado)"
   ]
  },
  {
   "cell_type": "code",
   "execution_count": 13,
   "id": "76a53e7c-83d2-4227-8642-034999c3c0d8",
   "metadata": {},
   "outputs": [
    {
     "data": {
      "text/plain": [
       "True"
      ]
     },
     "execution_count": 13,
     "metadata": {},
     "output_type": "execute_result"
    }
   ],
   "source": [
    "nome == desembaralhado"
   ]
  },
  {
   "cell_type": "markdown",
   "id": "af578067-a591-4877-95b8-3d5ff0096c04",
   "metadata": {},
   "source": [
    "Deu certo! Mas isso é apenas exemplo didático. \n",
    "\n",
    "Pessoas inteligentes - como o famoso Alan Turing (https://en.wikipedia.org/wiki/Alan_Turing) - certamente seriam capazes de quebrar nosso código, descobrindo qual é o valor da chave secreta e acessar os resultados originais. Abaixo vamos utilizar criptografias de verdade, criadas por matemáticos famosos e utilizadas na indústria."
   ]
  },
  {
   "cell_type": "markdown",
   "id": "7ac12d6d-c101-4701-a0a8-184405682667",
   "metadata": {},
   "source": [
    "Como dissemos anteriormente, há duas principais formas de criptografia.\n",
    "\n",
    "A primeira dessas formas, denominada <i> one way encryption </i> ou \"criptografia de uma via\", realiza esse embaralhamento de forma que não é possível (pelo menos não com a capacidade computacional atual) retornar ao valor original. \n",
    "\n",
    "Um algoritmo bastante conhecido é o md5. Um dos principais casos de uso desse tipo de criptografia está no armazenamento de senhas em sistemas. O objetivo é garantir a segurança das senhas, mesmo no caso de algum malfeitor invadir o banco de dados. Nestes casos, quando cadastramos as senhas, o sistema faz a criptografia das mesmas e armazena apenas o valor criptografado. Em seguida, no momento em que fazemos login, para certificar se a senha digitada foi a correta, o sistema utiliza a mesma função de criptografia sobre a senha digitada e verifica se o valor embaralhado  (também chamado <i> digest </i>) é o mesmo valor que foi salvo quando do momento do login. Assim, sem saber exatamente \"qual\" é a senha, o sistema consegue saber que a senha digitada é a correta.\n",
    "\n",
    "Para que isso seja possível, o principal requisito dos algoritmos deste tipo é que sempre que um mesmo valor seja criptografado, ele obrigatoriamente deve gerar o mesmo digest. Outro nome para esse tipo de função matemática é função de <i> hash <i/>\n",
    "\n",
    "A segunda dessas formas, também chamada <i> two way encryption </i>, ou \"criptografia de ida-e-volta\" em uma tradução livre, também realiza o emabaralhamento dos valores. No entanto, ela o faz de forma que seja possível, para aqueles que detém uma \"chave\", traduzir o valor embaralhado e retornar ao valor original. Ocorre que a principal forma de \"quebrar o código\" e descobrir qual é a chave é a partir da comparação entre alguns valores originais criptografados e o resultado embaralhado da criptografia. Por exemplo, alguém poderia perceber que, em nosso algoritmo anterior, palavras que começam com a letra \"a\", ao serem embaralhadas, sempre se iniciam com o número 6. E palavras que começam com a letra \"b\" sempre se iniciam com o número 7. Rapidamente poderão concluir que a chave secreta é o número 5.\n",
    "    \n",
    "Por isso, os algoritmos modernos, ainda que utilizem chaves secretas, também adicionam um componente mais \"aleatório\" em seu modo de operação, de forma que o resultado do embaralhamento, para um mesmo valor, não é sempre o mesmo a cada vez. Algumas implementações, por exemplo, utilizam a <i> timestamp </i> (o número de segundos que se passaram desde o dia 1º de janeiro de 1971) do momento em que a criptografia foi feita para acrescentar essa \"aleatoriedade\"."
   ]
  },
  {
   "cell_type": "markdown",
   "id": "3fb5ff08-cc2a-44f5-a33b-b5a5c9fc888f",
   "metadata": {},
   "source": [
    "Aqui nós iremos implementar ambas as formas. Pois, com a criptografia de \"uma via\", garantimos que um mesmo CPF sempre será um mesmo valor embaralhado. Isso é importante para que possamos, por exemplo, identificar se houve muitos votos de uma mesma pessoa.\n",
    "\n",
    "Já a criptografia de \"ida e volta\" nos permitirá, caso recebamos novos questionamentos feitos sobre os dados enviados, retornar ao valor original do CPF ou do nome do autor. Com isso, poderemos fazer novas consultas ao banco de dados para poder responder aos questionamentos em detalhes."
   ]
  },
  {
   "cell_type": "markdown",
   "id": "4ffe49b0-a443-4139-94b5-2a3fbe5e27b9",
   "metadata": {},
   "source": [
    "### criptografia de \"uma via\"\n",
    "\n",
    "Abaixo criptografamos os dados pessoais utilizando o algoritmo sha256."
   ]
  },
  {
   "cell_type": "code",
   "execution_count": 14,
   "id": "47a297f2-2bb5-489b-8f68-d35e89c80067",
   "metadata": {},
   "outputs": [],
   "source": [
    "def hash_string(item):\n",
    "    '''Utiliza a biblioteca hashlib para criptografar com o algoritmo sha256'''\n",
    "\n",
    "    item = str(item).encode('utf-8')\n",
    "    result = hashlib.sha256(item)\n",
    "    \n",
    "    return result.hexdigest()"
   ]
  },
  {
   "cell_type": "code",
   "execution_count": 15,
   "id": "0349bf8d-498d-425c-98b0-1587375f101f",
   "metadata": {},
   "outputs": [],
   "source": [
    "def hashear_autor_e_nome(df):\n",
    "    '''Criptografa as colunas com dados pessoais'''\n",
    "    \n",
    "    df = df.copy()\n",
    "    \n",
    "    #abaixo fazemos a criptografia. Valores nulos são substituídos pela string \"Vazio\"\n",
    "    df['Autor'].fillna('Vazio', inplace = True)\n",
    "    df['documento'].fillna('Vazio', inplace = True)\n",
    "    df['autor_hash'] = df['Autor'].apply(hash_string)\n",
    "    df['documento_hash'] = df['documento'].apply(hash_string)\n",
    "    \n",
    "    #abaixo verificamos se as hashs funcionaram\n",
    "    #para isso, verificamos se a quantidade de registros para um dado valor original\n",
    "    #é a mesma para um dado valor criptografado\n",
    "    df['count'] = 1\n",
    "    assert df.groupby('Autor').count()['count'].max() == df.groupby('autor_hash').count()['count'].max()\n",
    "    assert df.groupby('documento').count()['count'].max() == df.groupby('documento_hash').count()['count'].max()\n",
    "    df.drop('count', axis=1, inplace = True)\n",
    "    \n",
    "    return df"
   ]
  },
  {
   "cell_type": "code",
   "execution_count": 16,
   "id": "091372ca-80a9-48be-9c42-fe8910e62902",
   "metadata": {},
   "outputs": [],
   "source": [
    "df = hashear_autor_e_nome(df)"
   ]
  },
  {
   "cell_type": "code",
   "execution_count": 17,
   "id": "c8761d42-d6f1-4e33-a0b3-fbc4b26a1c36",
   "metadata": {},
   "outputs": [
    {
     "data": {
      "text/html": [
       "<div>\n",
       "<style scoped>\n",
       "    .dataframe tbody tr th:only-of-type {\n",
       "        vertical-align: middle;\n",
       "    }\n",
       "\n",
       "    .dataframe tbody tr th {\n",
       "        vertical-align: top;\n",
       "    }\n",
       "\n",
       "    .dataframe thead th {\n",
       "        text-align: right;\n",
       "    }\n",
       "</style>\n",
       "<table border=\"1\" class=\"dataframe\">\n",
       "  <thead>\n",
       "    <tr style=\"text-align: right;\">\n",
       "      <th></th>\n",
       "      <th>autor_hash</th>\n",
       "      <th>documento_hash</th>\n",
       "    </tr>\n",
       "  </thead>\n",
       "  <tbody>\n",
       "    <tr>\n",
       "      <th>0</th>\n",
       "      <td>73b9d61508032ae3f73bb32648f9445ae4d4f85a92949e...</td>\n",
       "      <td>2fc233fefbb6b8a1785dffe35d6d65e4509f3f5b4c100b...</td>\n",
       "    </tr>\n",
       "    <tr>\n",
       "      <th>1</th>\n",
       "      <td>6d9d733b551051b9531f6328a9f712b73f18724c91405b...</td>\n",
       "      <td>ebf5a86ec8121a6f5b408103d9180f9f45f3aff0222116...</td>\n",
       "    </tr>\n",
       "    <tr>\n",
       "      <th>2</th>\n",
       "      <td>73b9d61508032ae3f73bb32648f9445ae4d4f85a92949e...</td>\n",
       "      <td>2fc233fefbb6b8a1785dffe35d6d65e4509f3f5b4c100b...</td>\n",
       "    </tr>\n",
       "    <tr>\n",
       "      <th>3</th>\n",
       "      <td>88979468f70c7626af30accbf9fa92dce65545b840190e...</td>\n",
       "      <td>2fc233fefbb6b8a1785dffe35d6d65e4509f3f5b4c100b...</td>\n",
       "    </tr>\n",
       "    <tr>\n",
       "      <th>4</th>\n",
       "      <td>796b6ad63dc9562c0336f4dc0579c1db940dcc080d68e4...</td>\n",
       "      <td>c8b6144e34835303b1e49b00b555fb05dafc443f8926e9...</td>\n",
       "    </tr>\n",
       "  </tbody>\n",
       "</table>\n",
       "</div>"
      ],
      "text/plain": [
       "                                          autor_hash  \\\n",
       "0  73b9d61508032ae3f73bb32648f9445ae4d4f85a92949e...   \n",
       "1  6d9d733b551051b9531f6328a9f712b73f18724c91405b...   \n",
       "2  73b9d61508032ae3f73bb32648f9445ae4d4f85a92949e...   \n",
       "3  88979468f70c7626af30accbf9fa92dce65545b840190e...   \n",
       "4  796b6ad63dc9562c0336f4dc0579c1db940dcc080d68e4...   \n",
       "\n",
       "                                      documento_hash  \n",
       "0  2fc233fefbb6b8a1785dffe35d6d65e4509f3f5b4c100b...  \n",
       "1  ebf5a86ec8121a6f5b408103d9180f9f45f3aff0222116...  \n",
       "2  2fc233fefbb6b8a1785dffe35d6d65e4509f3f5b4c100b...  \n",
       "3  2fc233fefbb6b8a1785dffe35d6d65e4509f3f5b4c100b...  \n",
       "4  c8b6144e34835303b1e49b00b555fb05dafc443f8926e9...  "
      ]
     },
     "execution_count": 17,
     "metadata": {},
     "output_type": "execute_result"
    }
   ],
   "source": [
    "df[['autor_hash', 'documento_hash']].head()"
   ]
  },
  {
   "cell_type": "markdown",
   "id": "757a3e81-4213-455d-970a-380629989616",
   "metadata": {},
   "source": [
    "### criptografia de duas vias\n",
    "\n",
    "A seguir geramos a criptografia de duas vias, utilizando o método Fernet."
   ]
  },
  {
   "cell_type": "code",
   "execution_count": 18,
   "id": "72d6dc08-cec0-4b1c-a426-e3fd62934642",
   "metadata": {},
   "outputs": [],
   "source": [
    "def get_fernet_crypto():\n",
    "    '''Carrega a chave secreta'''\n",
    "    \n",
    "    with open('original_data/fernet_key.pi', 'rb') as f:\n",
    "        key = pickle.load(f)\n",
    "        \n",
    "    return Fernet(key)"
   ]
  },
  {
   "cell_type": "code",
   "execution_count": 19,
   "id": "19f04761-3ba8-42f1-a2c8-c37477004dba",
   "metadata": {},
   "outputs": [],
   "source": [
    "def encrypt(item, crypto):\n",
    "    '''Criptografa usando o método fernet'''\n",
    "    \n",
    "    bytes_item = str(item).encode('utf-8')\n",
    "    \n",
    "    return crypto.encrypt(bytes_item)"
   ]
  },
  {
   "cell_type": "code",
   "execution_count": 20,
   "id": "3f9ab15f-79ca-48af-a65e-2252acebed0e",
   "metadata": {},
   "outputs": [],
   "source": [
    "def str_bytes_to_bytes(item):\n",
    "    '''Função auxiliar para retornar da representação de um bytes-string para \n",
    "    bytes'''\n",
    "    \n",
    "    if type(item) is str and \\\n",
    "    item.startswith(\"b\"):\n",
    "        \n",
    "        item = item[2:-1].encode('utf-8')\n",
    "        \n",
    "    return item"
   ]
  },
  {
   "cell_type": "code",
   "execution_count": 21,
   "id": "ac112044-5353-428f-8d01-f0224dd7f665",
   "metadata": {},
   "outputs": [],
   "source": [
    "def decrypt(item, crypto):\n",
    "    '''Descriptografa os dados'''\n",
    "    \n",
    "    item = str_bytes_to_bytes(item)\n",
    "        \n",
    "    return crypto.decrypt(item).decode('utf-8')"
   ]
  },
  {
   "cell_type": "code",
   "execution_count": 22,
   "id": "5d6ae983-2ad6-4604-a191-26d680bdd386",
   "metadata": {},
   "outputs": [],
   "source": [
    "def encriptar_autor_e_doc(df):\n",
    "    '''Criptografia simétrica ou de duas vias das informações pesssoais'''\n",
    "    \n",
    "    df = df.copy()\n",
    "    \n",
    "    fernet = get_fernet_crypto()\n",
    "    \n",
    "    #certifica que está funcionando\n",
    "    assert decrypt(encrypt('Henrique Pougy', fernet), fernet) == 'Henrique Pougy'\n",
    "    \n",
    "    df['Autor'].fillna('Vazio', inplace = True)\n",
    "    df['autor_cripto'] = df['Autor'].apply(encrypt,args = [fernet])\n",
    "    df['documento'].fillna('Vazio', inplace = True)\n",
    "    df['documento_cripto'] = df['documento'].apply(encrypt, args=[fernet])\n",
    "    \n",
    "    df.drop(['Autor', 'documento'], inplace = True, axis = 1)\n",
    "    \n",
    "    return df"
   ]
  },
  {
   "cell_type": "code",
   "execution_count": 23,
   "id": "2d6aca6e-d862-49e7-bec3-db09fe1dbcdb",
   "metadata": {},
   "outputs": [],
   "source": [
    "df = encriptar_autor_e_doc(df)"
   ]
  },
  {
   "cell_type": "markdown",
   "id": "c214b247-fd71-4c0f-a3b5-067ae3ed70f0",
   "metadata": {},
   "source": [
    "#### Agora podemos inspecionar os dados!"
   ]
  },
  {
   "cell_type": "code",
   "execution_count": 24,
   "id": "d74a19b2-066b-4bbb-9f72-b3f0e9e998bb",
   "metadata": {},
   "outputs": [
    {
     "data": {
      "text/html": [
       "<div>\n",
       "<style scoped>\n",
       "    .dataframe tbody tr th:only-of-type {\n",
       "        vertical-align: middle;\n",
       "    }\n",
       "\n",
       "    .dataframe tbody tr th {\n",
       "        vertical-align: top;\n",
       "    }\n",
       "\n",
       "    .dataframe thead th {\n",
       "        text-align: right;\n",
       "    }\n",
       "</style>\n",
       "<table border=\"1\" class=\"dataframe\">\n",
       "  <thead>\n",
       "    <tr style=\"text-align: right;\">\n",
       "      <th></th>\n",
       "      <th>Código</th>\n",
       "      <th>Data de criação</th>\n",
       "      <th>Título</th>\n",
       "      <th>Descrição</th>\n",
       "      <th>Categoria</th>\n",
       "      <th>Resultado da priorização</th>\n",
       "      <th>Votos</th>\n",
       "      <th>Resultado da votação</th>\n",
       "      <th>Viabilidade</th>\n",
       "      <th>Compromisso</th>\n",
       "      <th>Justificativa</th>\n",
       "      <th>Data do voto</th>\n",
       "      <th>Horário</th>\n",
       "      <th>subprefeitura</th>\n",
       "      <th>autor_hash</th>\n",
       "      <th>documento_hash</th>\n",
       "      <th>autor_cripto</th>\n",
       "      <th>documento_cripto</th>\n",
       "    </tr>\n",
       "  </thead>\n",
       "  <tbody>\n",
       "    <tr>\n",
       "      <th>0</th>\n",
       "      <td>335</td>\n",
       "      <td>17/04/2021</td>\n",
       "      <td>Implantação do Parque Cabeceira do Cabore</td>\n",
       "      <td>Implantação do Parque Cabeceira do Cabore Pl 7...</td>\n",
       "      <td>Meio Ambiente</td>\n",
       "      <td>Priorizada</td>\n",
       "      <td>491</td>\n",
       "      <td>Eleita</td>\n",
       "      <td>Etapa orçamentária futura</td>\n",
       "      <td>Etapa orçamentária futura</td>\n",
       "      <td>Etapa orçamentária futura</td>\n",
       "      <td>25/06/21</td>\n",
       "      <td>00:05</td>\n",
       "      <td>Campo Limpo</td>\n",
       "      <td>73b9d61508032ae3f73bb32648f9445ae4d4f85a92949e...</td>\n",
       "      <td>2fc233fefbb6b8a1785dffe35d6d65e4509f3f5b4c100b...</td>\n",
       "      <td>b'gAAAAABhAb55wyHTbPUBxYF5-f2T6er_0-AhH1grHmND...</td>\n",
       "      <td>b'gAAAAABhAb57HfdH8qUZY4rOV-N04RixZ8W4I48j2wBd...</td>\n",
       "    </tr>\n",
       "    <tr>\n",
       "      <th>1</th>\n",
       "      <td>81</td>\n",
       "      <td>13/04/2021</td>\n",
       "      <td>Implantação de UBS na região do parque industr...</td>\n",
       "      <td>Implantação de uma unidade básica de saúde na ...</td>\n",
       "      <td>Saúde</td>\n",
       "      <td>Priorizada</td>\n",
       "      <td>136</td>\n",
       "      <td>Não eleita</td>\n",
       "      <td>Etapa orçamentária futura</td>\n",
       "      <td>Etapa orçamentária futura</td>\n",
       "      <td>Etapa orçamentária futura</td>\n",
       "      <td>25/06/21</td>\n",
       "      <td>00:05</td>\n",
       "      <td>Lapa</td>\n",
       "      <td>6d9d733b551051b9531f6328a9f712b73f18724c91405b...</td>\n",
       "      <td>ebf5a86ec8121a6f5b408103d9180f9f45f3aff0222116...</td>\n",
       "      <td>b'gAAAAABhAb55bxed2Xuq4c2U9l9ly7aIyQ7IxmCKyATd...</td>\n",
       "      <td>b'gAAAAABhAb57nflxuMEOwRkb5pGAY7kug2nyVnPDeABg...</td>\n",
       "    </tr>\n",
       "    <tr>\n",
       "      <th>2</th>\n",
       "      <td>398</td>\n",
       "      <td>18/04/2021</td>\n",
       "      <td>Implementação dos parques Horto do Ipê, Capadó...</td>\n",
       "      <td>Conforme o Decreto 53.965/2013 que declara a á...</td>\n",
       "      <td>Meio Ambiente</td>\n",
       "      <td>Priorizada</td>\n",
       "      <td>1072</td>\n",
       "      <td>Eleita</td>\n",
       "      <td>Etapa orçamentária futura</td>\n",
       "      <td>Etapa orçamentária futura</td>\n",
       "      <td>Etapa orçamentária futura</td>\n",
       "      <td>25/06/21</td>\n",
       "      <td>00:05</td>\n",
       "      <td>Campo Limpo</td>\n",
       "      <td>73b9d61508032ae3f73bb32648f9445ae4d4f85a92949e...</td>\n",
       "      <td>2fc233fefbb6b8a1785dffe35d6d65e4509f3f5b4c100b...</td>\n",
       "      <td>b'gAAAAABhAb558oS7Z11iHa15Rc8PbBpwhaDHvIEbFsTi...</td>\n",
       "      <td>b'gAAAAABhAb5701eheI2O0xWRBNz18vJK8QptsXkOkcTJ...</td>\n",
       "    </tr>\n",
       "    <tr>\n",
       "      <th>3</th>\n",
       "      <td>429</td>\n",
       "      <td>19/04/2021</td>\n",
       "      <td>Construção de um Hospital no distrito do Campo...</td>\n",
       "      <td>Construção de um Hospital no distrito do Campo...</td>\n",
       "      <td>Saúde</td>\n",
       "      <td>Priorizada</td>\n",
       "      <td>552</td>\n",
       "      <td>Eleita</td>\n",
       "      <td>Etapa orçamentária futura</td>\n",
       "      <td>Etapa orçamentária futura</td>\n",
       "      <td>Etapa orçamentária futura</td>\n",
       "      <td>25/06/21</td>\n",
       "      <td>00:07</td>\n",
       "      <td>Campo Limpo</td>\n",
       "      <td>88979468f70c7626af30accbf9fa92dce65545b840190e...</td>\n",
       "      <td>2fc233fefbb6b8a1785dffe35d6d65e4509f3f5b4c100b...</td>\n",
       "      <td>b'gAAAAABhAb55pp22WWil_noNPe5G1uRZb0lJVYVBaqNd...</td>\n",
       "      <td>b'gAAAAABhAb57Gxul0OYb6pVtZcqHwnIZKYfHpLVj7NFY...</td>\n",
       "    </tr>\n",
       "    <tr>\n",
       "      <th>4</th>\n",
       "      <td>3148</td>\n",
       "      <td>10/05/2021</td>\n",
       "      <td>Pavimentação e Drenagem na Rua Servidão V</td>\n",
       "      <td>Pavimentação e Drenagem na Rua Servidão V (Rua...</td>\n",
       "      <td>Zeladoria Urbana e melhorias de bairro</td>\n",
       "      <td>Priorizada</td>\n",
       "      <td>78</td>\n",
       "      <td>Não eleita</td>\n",
       "      <td>Etapa orçamentária futura</td>\n",
       "      <td>Etapa orçamentária futura</td>\n",
       "      <td>Etapa orçamentária futura</td>\n",
       "      <td>25/06/21</td>\n",
       "      <td>00:08</td>\n",
       "      <td>São Mateus</td>\n",
       "      <td>796b6ad63dc9562c0336f4dc0579c1db940dcc080d68e4...</td>\n",
       "      <td>c8b6144e34835303b1e49b00b555fb05dafc443f8926e9...</td>\n",
       "      <td>b'gAAAAABhAb55HC8DfZQgdxgMDrTQiQxK8WFxuyMuCzax...</td>\n",
       "      <td>b'gAAAAABhAb57zfVl0qAsuu3BABnCFudB75yOyv-H6EcN...</td>\n",
       "    </tr>\n",
       "  </tbody>\n",
       "</table>\n",
       "</div>"
      ],
      "text/plain": [
       "   Código Data de criação                                             Título  \\\n",
       "0     335      17/04/2021          Implantação do Parque Cabeceira do Cabore   \n",
       "1      81      13/04/2021  Implantação de UBS na região do parque industr...   \n",
       "2     398      18/04/2021  Implementação dos parques Horto do Ipê, Capadó...   \n",
       "3     429      19/04/2021  Construção de um Hospital no distrito do Campo...   \n",
       "4    3148      10/05/2021          Pavimentação e Drenagem na Rua Servidão V   \n",
       "\n",
       "                                           Descrição  \\\n",
       "0  Implantação do Parque Cabeceira do Cabore Pl 7...   \n",
       "1  Implantação de uma unidade básica de saúde na ...   \n",
       "2  Conforme o Decreto 53.965/2013 que declara a á...   \n",
       "3  Construção de um Hospital no distrito do Campo...   \n",
       "4  Pavimentação e Drenagem na Rua Servidão V (Rua...   \n",
       "\n",
       "                                Categoria Resultado da priorização  Votos  \\\n",
       "0                           Meio Ambiente               Priorizada    491   \n",
       "1                                   Saúde               Priorizada    136   \n",
       "2                           Meio Ambiente               Priorizada   1072   \n",
       "3                                   Saúde               Priorizada    552   \n",
       "4  Zeladoria Urbana e melhorias de bairro               Priorizada     78   \n",
       "\n",
       "  Resultado da votação                Viabilidade                Compromisso  \\\n",
       "0               Eleita  Etapa orçamentária futura  Etapa orçamentária futura   \n",
       "1           Não eleita  Etapa orçamentária futura  Etapa orçamentária futura   \n",
       "2               Eleita  Etapa orçamentária futura  Etapa orçamentária futura   \n",
       "3               Eleita  Etapa orçamentária futura  Etapa orçamentária futura   \n",
       "4           Não eleita  Etapa orçamentária futura  Etapa orçamentária futura   \n",
       "\n",
       "               Justificativa Data do voto Horário subprefeitura  \\\n",
       "0  Etapa orçamentária futura     25/06/21   00:05   Campo Limpo   \n",
       "1  Etapa orçamentária futura     25/06/21   00:05          Lapa   \n",
       "2  Etapa orçamentária futura     25/06/21   00:05   Campo Limpo   \n",
       "3  Etapa orçamentária futura     25/06/21   00:07   Campo Limpo   \n",
       "4  Etapa orçamentária futura     25/06/21   00:08    São Mateus   \n",
       "\n",
       "                                          autor_hash  \\\n",
       "0  73b9d61508032ae3f73bb32648f9445ae4d4f85a92949e...   \n",
       "1  6d9d733b551051b9531f6328a9f712b73f18724c91405b...   \n",
       "2  73b9d61508032ae3f73bb32648f9445ae4d4f85a92949e...   \n",
       "3  88979468f70c7626af30accbf9fa92dce65545b840190e...   \n",
       "4  796b6ad63dc9562c0336f4dc0579c1db940dcc080d68e4...   \n",
       "\n",
       "                                      documento_hash  \\\n",
       "0  2fc233fefbb6b8a1785dffe35d6d65e4509f3f5b4c100b...   \n",
       "1  ebf5a86ec8121a6f5b408103d9180f9f45f3aff0222116...   \n",
       "2  2fc233fefbb6b8a1785dffe35d6d65e4509f3f5b4c100b...   \n",
       "3  2fc233fefbb6b8a1785dffe35d6d65e4509f3f5b4c100b...   \n",
       "4  c8b6144e34835303b1e49b00b555fb05dafc443f8926e9...   \n",
       "\n",
       "                                        autor_cripto  \\\n",
       "0  b'gAAAAABhAb55wyHTbPUBxYF5-f2T6er_0-AhH1grHmND...   \n",
       "1  b'gAAAAABhAb55bxed2Xuq4c2U9l9ly7aIyQ7IxmCKyATd...   \n",
       "2  b'gAAAAABhAb558oS7Z11iHa15Rc8PbBpwhaDHvIEbFsTi...   \n",
       "3  b'gAAAAABhAb55pp22WWil_noNPe5G1uRZb0lJVYVBaqNd...   \n",
       "4  b'gAAAAABhAb55HC8DfZQgdxgMDrTQiQxK8WFxuyMuCzax...   \n",
       "\n",
       "                                    documento_cripto  \n",
       "0  b'gAAAAABhAb57HfdH8qUZY4rOV-N04RixZ8W4I48j2wBd...  \n",
       "1  b'gAAAAABhAb57nflxuMEOwRkb5pGAY7kug2nyVnPDeABg...  \n",
       "2  b'gAAAAABhAb5701eheI2O0xWRBNz18vJK8QptsXkOkcTJ...  \n",
       "3  b'gAAAAABhAb57Gxul0OYb6pVtZcqHwnIZKYfHpLVj7NFY...  \n",
       "4  b'gAAAAABhAb57zfVl0qAsuu3BABnCFudB75yOyv-H6EcN...  "
      ]
     },
     "execution_count": 24,
     "metadata": {},
     "output_type": "execute_result"
    }
   ],
   "source": [
    "df.head()"
   ]
  },
  {
   "cell_type": "markdown",
   "id": "02460892-1a22-4836-b798-00b97929b696",
   "metadata": {},
   "source": [
    "Notamos que há algumas colunas ('Viabilidade', 'Compromisso\" e \"Justificativa\") que correspondem a dados que serão preenchidos em etapas futuras do processo orçamentário.\n",
    "\n",
    "Elas não contém nenhuma informação atualmente. Por isso, vamos removê-las."
   ]
  },
  {
   "cell_type": "code",
   "execution_count": 25,
   "id": "c6c3ec55-baa2-4b42-8188-adeb81d3ad27",
   "metadata": {},
   "outputs": [],
   "source": [
    "def drop_cols_sem_info(df):\n",
    "    \n",
    "    df = df.copy()\n",
    "    \n",
    "    remover = []\n",
    "    for col in df.columns:\n",
    "        val_unicos = df[col].unique()\n",
    "        if len(val_unicos) == 1:\n",
    "            print(f'A coluna {col} possui como valor unico \"{val_unicos[0]}\"')\n",
    "            remover.append(col)\n",
    "    df.drop(remover, axis=1, inplace = True)\n",
    "    \n",
    "    return df"
   ]
  },
  {
   "cell_type": "code",
   "execution_count": 26,
   "id": "50ada77f-f996-4619-ada1-e6683db71bcf",
   "metadata": {},
   "outputs": [
    {
     "name": "stdout",
     "output_type": "stream",
     "text": [
      "A coluna Resultado da priorização possui como valor unico \"Priorizada\"\n",
      "A coluna Viabilidade possui como valor unico \"Etapa orçamentária futura\"\n",
      "A coluna Compromisso possui como valor unico \"Etapa orçamentária futura\"\n",
      "A coluna Justificativa possui como valor unico \"Etapa orçamentária futura\"\n"
     ]
    }
   ],
   "source": [
    "df = drop_cols_sem_info(df)"
   ]
  },
  {
   "cell_type": "markdown",
   "id": "a543c8d7-7a6b-4fe8-8d05-89debab6b2f1",
   "metadata": {},
   "source": [
    "Com os dados devidamente criptografados, vamos selecionar todos os votos de São Mateus e, em seguida, salvá-los em um arquivo .csv, que é um dos formatos de dados abertos mais acessível."
   ]
  },
  {
   "cell_type": "code",
   "execution_count": 27,
   "id": "2e8871c2-888d-4493-a07c-584132d64657",
   "metadata": {},
   "outputs": [],
   "source": [
    "sao_mateus = df[df['subprefeitura']=='São Mateus'].copy().reset_index(drop=True)"
   ]
  },
  {
   "cell_type": "code",
   "execution_count": 28,
   "id": "4885ed5e-a071-430c-9a43-5d76c328cd27",
   "metadata": {},
   "outputs": [],
   "source": [
    "sao_mateus.to_csv('dados_abertos_votacao_sao_mateus.csv', sep = ';', encoding='utf-8', quotechar='\"')"
   ]
  },
  {
   "cell_type": "markdown",
   "id": "621324c4-bdba-4960-baaf-e4cb73debeab",
   "metadata": {},
   "source": [
    "## Parte 2. Análise da votação em São Mateus"
   ]
  },
  {
   "cell_type": "code",
   "execution_count": null,
   "id": "51ffddf3-08de-4b49-8577-39128719e217",
   "metadata": {},
   "outputs": [],
   "source": []
  }
 ],
 "metadata": {
  "kernelspec": {
   "display_name": "Python 3",
   "language": "python",
   "name": "python3"
  },
  "language_info": {
   "codemirror_mode": {
    "name": "ipython",
    "version": 3
   },
   "file_extension": ".py",
   "mimetype": "text/x-python",
   "name": "python",
   "nbconvert_exporter": "python",
   "pygments_lexer": "ipython3",
   "version": "3.8.8"
  }
 },
 "nbformat": 4,
 "nbformat_minor": 5
}
